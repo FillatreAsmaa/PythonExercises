{
 "cells": [
  {
   "cell_type": "markdown",
   "metadata": {},
   "source": [
    "This code is based on Python 3.5.\n",
    "\n",
    "This prgram processes the whole file in a single step (no chunk).\n",
    "\n",
    "To accelerate the performance, I used an uncompressed data  but, if necessary, the \"pd.read_csv\" function can be applied to compressed files by adding the option \"compression='bz2'\"\n"
   ]
  },
  {
   "cell_type": "markdown",
   "metadata": {},
   "source": [
    "The next cell defines the common parameters of the code"
   ]
  },
  {
   "cell_type": "code",
   "execution_count": 1,
   "metadata": {
    "collapsed": false
   },
   "outputs": [],
   "source": [
    "import pandas as pd # import the library pandas\n",
    "import numpy as np # import the library numpy to use \"linspace\"\n",
    "filenameBooking=\"bookings.csv\" # name of the bookings file\n",
    "usedColumns = ['arr_port','pax'] # columns used to process the file\n",
    "intChunksize = 10000 # size of the chunk (when using chunks)\n",
    "topNumber=10 # number of tops I retrieve"
   ]
  },
  {
   "cell_type": "markdown",
   "metadata": {},
   "source": [
    "The next cell computes the top10 by processing the file in one single step (without chunk)"
   ]
  },
  {
   "cell_type": "code",
   "execution_count": 5,
   "metadata": {
    "collapsed": false
   },
   "outputs": [
    {
     "name": "stdout",
     "output_type": "stream",
     "text": [
      " arr_port    pax\n",
      " LHR       88809\n",
      " MCO       70930\n",
      " LAX       70530\n",
      " LAS       69630\n",
      " JFK       66270\n",
      " CDG       64490\n",
      " BKK       59460\n",
      " MIA       58150\n",
      " SFO       58000\n",
      " DXB       55590\n"
     ]
    }
   ],
   "source": [
    "# Version without chunk\n",
    "# read the CSV file, keeping only columns 'arr_port' and'pax'\n",
    "df = pd.read_csv(filenameBooking,sep='^', usecols=usedColumns) \n",
    "# The next command works as follow:\n",
    "# 1)The grouby operator groups the dataframe rows by arrival airport, then I sum the pax (including negatives values)\n",
    "# 2) the function \"reset_index\" transforms the hierarchical index levels (created with the groupby) into columns, \n",
    "# so I obtain a dataframe\n",
    "# 3) The column \"pax\" is sorted on descending order and I keep the first topNumber rows\n",
    "# Comment: If a value is missing within the file,the read_csv function replaces it automatically by a nan, \n",
    "# and the sum ignores the nan's.\n",
    "dfTop=df['pax'].groupby(df['arr_port']).sum().reset_index().sort_values(by='pax', ascending=False)[:topNumber]\n",
    "print(dfTop.to_string(index=False)) # print the top10 dataframe (just for verification, no \"pretty\" print)"
   ]
  },
  {
   "cell_type": "code",
   "execution_count": null,
   "metadata": {
    "collapsed": true
   },
   "outputs": [],
   "source": []
  }
 ],
 "metadata": {
  "celltoolbar": "Raw Cell Format",
  "kernelspec": {
   "display_name": "Python 3",
   "language": "python",
   "name": "python3"
  },
  "language_info": {
   "codemirror_mode": {
    "name": "ipython",
    "version": 3
   },
   "file_extension": ".py",
   "mimetype": "text/x-python",
   "name": "python",
   "nbconvert_exporter": "python",
   "pygments_lexer": "ipython3",
   "version": "3.5.1"
  }
 },
 "nbformat": 4,
 "nbformat_minor": 0
}
