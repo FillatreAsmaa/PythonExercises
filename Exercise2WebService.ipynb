{
 "cells": [
  {
   "cell_type": "markdown",
   "metadata": {},
   "source": [
    "This code is based on Python 2.7.\n",
    "\n",
    "To simplify, I propose a code without chunk (the whole file is processed in a single step) . The version with chunks could be easily derived from other exercises.\n",
    "\n",
    "To accelerate the performance, I used an uncompressed data file but, if necessary, the \"pd.read_csv\" function can be applied to compressed files by adding the option \"compression='bz2'\"\n",
    "\n",
    "This code exploits GeoBase to retrieve airport countries.\n",
    "\n",
    "To test the webservice, \n",
    "   http://localhost:8080/top/n            \n",
    "It returns JSON file with Top n airports.\n"
   ]
  },
  {
   "cell_type": "code",
   "execution_count": 1,
   "metadata": {
    "collapsed": false
   },
   "outputs": [],
   "source": [
    "import web # Import the library web to create the web service\n",
    "import pandas as pd # import the library pandas\n",
    "import json # import the library json for JSON files\n",
    "from GeoBases import GeoBase # import GeoBase to retrieve airport countries\n",
    "\n",
    "# Columns names and filenames\n",
    "filenameBooking=\"bookings.csv\" # name of the bookings file\n",
    "usedColumns = ['arr_port','pax'] # columns used to process the file"
   ]
  },
  {
   "cell_type": "markdown",
   "metadata": {
    "raw_mimetype": "text/markdown"
   },
   "source": [
    "The next cell retrieves the GeoBase information on airport countries.\n",
    "\n",
    "It also defines the reading function that is used to remove unknown airport codes."
   ]
  },
  {
   "cell_type": "code",
   "execution_count": 2,
   "metadata": {
    "collapsed": false
   },
   "outputs": [],
   "source": [
    "geo_o = GeoBase(data='ori_por', verbose=False) # load the GeoBase data\n",
    "\n",
    "# Create a function that retrieves the country name from the airport code\n",
    "# If the airport code is unknown, it returns the default value \"UNKNOWN\"\n",
    "# I use the strip function to remove whitespaces in airport codes (otherwise, no airport code is recognized)\n",
    "def strCountryName(x):\n",
    "    return geo_o.get(x.strip(), 'city_name_ascii',default='UNKNOWN')"
   ]
  },
  {
   "cell_type": "markdown",
   "metadata": {},
   "source": [
    "In next cell, I define the function that produces the top ranking and write the JSON file."
   ]
  },
  {
   "cell_type": "code",
   "execution_count": 3,
   "metadata": {
    "collapsed": true
   },
   "outputs": [],
   "source": [
    "# Define the function that writes the JSON file\n",
    "def writeJsonFile(topNumber,filenameJSON):\n",
    "    # read the CSV file, keeping only columns 'arr_port' and'pax'\n",
    "    df = pd.read_csv(filenameBooking,sep='^', usecols=usedColumns, nrows=1000) \n",
    "    dfTop=df['pax'].groupby(df['arr_port']).sum().reset_index().sort_values(by='pax', ascending=False)[:topNumber]\n",
    "        \n",
    "    dfTop['Rank']=range(1,topNumber+1,1) # Generate integers up to topNumber+1, but not including topNumber+1\n",
    "    dfTop = dfTop.reindex(columns=['Rank','arr_port','pax'])\n",
    "    dfTopJSON=dfTop.rename(columns={'arr_port': 'Airport','pax': 'Number of bookings'})\n",
    "        \n",
    "    # I \"map\" the function 'strCountryName' to each row of the column 'Airport' to create a new column named 'Country'       \n",
    "    dfTopJSON['Country']=dfTopJSON['Airport'].map(strCountryName)    \n",
    "\n",
    "    # Write the data inside a json file        \n",
    "    jsonData = dfTopJSON.to_json(path_or_buf=filenameJSON, orient='columns') "
   ]
  },
  {
   "cell_type": "markdown",
   "metadata": {},
   "source": [
    "The following cell defines the webservice.\n",
    "\n",
    "Warning: this code uses the localhost web server. This server is also used by Jupyter. So there may exist a conflict.\n",
    "    The best way to test the code is to launch it into a .py file which is given in the Github website."
   ]
  },
  {
   "cell_type": "code",
   "execution_count": 4,
   "metadata": {
    "collapsed": false
   },
   "outputs": [
    {
     "ename": "ValueError",
     "evalue": "-f is not a valid IP address/port",
     "output_type": "error",
     "traceback": [
      "\u001b[1;31m---------------------------------------------------------------------------\u001b[0m",
      "\u001b[1;31mValueError\u001b[0m                                Traceback (most recent call last)",
      "\u001b[1;32m<ipython-input-4-ba08add95f2f>\u001b[0m in \u001b[0;36m<module>\u001b[1;34m()\u001b[0m\n\u001b[0;32m     22\u001b[0m \u001b[1;31m# Launch the webservice\u001b[0m\u001b[1;33m\u001b[0m\u001b[1;33m\u001b[0m\u001b[0m\n\u001b[0;32m     23\u001b[0m \u001b[1;32mif\u001b[0m \u001b[0m__name__\u001b[0m \u001b[1;33m==\u001b[0m \u001b[1;34m\"__main__\"\u001b[0m\u001b[1;33m:\u001b[0m\u001b[1;33m\u001b[0m\u001b[0m\n\u001b[1;32m---> 24\u001b[1;33m     \u001b[0mapp\u001b[0m\u001b[1;33m.\u001b[0m\u001b[0mrun\u001b[0m\u001b[1;33m(\u001b[0m\u001b[1;33m)\u001b[0m\u001b[1;33m\u001b[0m\u001b[0m\n\u001b[0m",
      "\u001b[1;32mC:\\Users\\Lionel\\Anaconda2\\lib\\site-packages\\web\\application.pyc\u001b[0m in \u001b[0;36mrun\u001b[1;34m(self, *middleware)\u001b[0m\n\u001b[0;32m    311\u001b[0m         \u001b[0mfunction\u001b[0m\u001b[1;33m.\u001b[0m\u001b[1;33m\u001b[0m\u001b[0m\n\u001b[0;32m    312\u001b[0m         \"\"\"\n\u001b[1;32m--> 313\u001b[1;33m         \u001b[1;32mreturn\u001b[0m \u001b[0mwsgi\u001b[0m\u001b[1;33m.\u001b[0m\u001b[0mrunwsgi\u001b[0m\u001b[1;33m(\u001b[0m\u001b[0mself\u001b[0m\u001b[1;33m.\u001b[0m\u001b[0mwsgifunc\u001b[0m\u001b[1;33m(\u001b[0m\u001b[1;33m*\u001b[0m\u001b[0mmiddleware\u001b[0m\u001b[1;33m)\u001b[0m\u001b[1;33m)\u001b[0m\u001b[1;33m\u001b[0m\u001b[0m\n\u001b[0m\u001b[0;32m    314\u001b[0m \u001b[1;33m\u001b[0m\u001b[0m\n\u001b[0;32m    315\u001b[0m     \u001b[1;32mdef\u001b[0m \u001b[0mstop\u001b[0m\u001b[1;33m(\u001b[0m\u001b[0mself\u001b[0m\u001b[1;33m)\u001b[0m\u001b[1;33m:\u001b[0m\u001b[1;33m\u001b[0m\u001b[0m\n",
      "\u001b[1;32mC:\\Users\\Lionel\\Anaconda2\\lib\\site-packages\\web\\wsgi.pyc\u001b[0m in \u001b[0;36mrunwsgi\u001b[1;34m(func)\u001b[0m\n\u001b[0;32m     52\u001b[0m             \u001b[1;32mreturn\u001b[0m \u001b[0mrunscgi\u001b[0m\u001b[1;33m(\u001b[0m\u001b[0mfunc\u001b[0m\u001b[1;33m)\u001b[0m\u001b[1;33m\u001b[0m\u001b[0m\n\u001b[0;32m     53\u001b[0m \u001b[1;33m\u001b[0m\u001b[0m\n\u001b[1;32m---> 54\u001b[1;33m     \u001b[1;32mreturn\u001b[0m \u001b[0mhttpserver\u001b[0m\u001b[1;33m.\u001b[0m\u001b[0mrunsimple\u001b[0m\u001b[1;33m(\u001b[0m\u001b[0mfunc\u001b[0m\u001b[1;33m,\u001b[0m \u001b[0mvalidip\u001b[0m\u001b[1;33m(\u001b[0m\u001b[0mlistget\u001b[0m\u001b[1;33m(\u001b[0m\u001b[0msys\u001b[0m\u001b[1;33m.\u001b[0m\u001b[0margv\u001b[0m\u001b[1;33m,\u001b[0m \u001b[1;36m1\u001b[0m\u001b[1;33m,\u001b[0m \u001b[1;34m''\u001b[0m\u001b[1;33m)\u001b[0m\u001b[1;33m)\u001b[0m\u001b[1;33m)\u001b[0m\u001b[1;33m\u001b[0m\u001b[0m\n\u001b[0m\u001b[0;32m     55\u001b[0m \u001b[1;33m\u001b[0m\u001b[0m\n\u001b[0;32m     56\u001b[0m \u001b[1;32mdef\u001b[0m \u001b[0m_is_dev_mode\u001b[0m\u001b[1;33m(\u001b[0m\u001b[1;33m)\u001b[0m\u001b[1;33m:\u001b[0m\u001b[1;33m\u001b[0m\u001b[0m\n",
      "\u001b[1;32mC:\\Users\\Lionel\\Anaconda2\\lib\\site-packages\\web\\net.pyc\u001b[0m in \u001b[0;36mvalidip\u001b[1;34m(ip, defaultaddr, defaultport)\u001b[0m\n\u001b[0;32m     69\u001b[0m             \u001b[0mport\u001b[0m \u001b[1;33m=\u001b[0m \u001b[0mint\u001b[0m\u001b[1;33m(\u001b[0m\u001b[0mip\u001b[0m\u001b[1;33m[\u001b[0m\u001b[1;36m0\u001b[0m\u001b[1;33m]\u001b[0m\u001b[1;33m)\u001b[0m\u001b[1;33m\u001b[0m\u001b[0m\n\u001b[0;32m     70\u001b[0m         \u001b[1;32melse\u001b[0m\u001b[1;33m:\u001b[0m\u001b[1;33m\u001b[0m\u001b[0m\n\u001b[1;32m---> 71\u001b[1;33m             \u001b[1;32mraise\u001b[0m \u001b[0mValueError\u001b[0m\u001b[1;33m,\u001b[0m \u001b[1;34m':'\u001b[0m\u001b[1;33m.\u001b[0m\u001b[0mjoin\u001b[0m\u001b[1;33m(\u001b[0m\u001b[0mip\u001b[0m\u001b[1;33m)\u001b[0m \u001b[1;33m+\u001b[0m \u001b[1;34m' is not a valid IP address/port'\u001b[0m\u001b[1;33m\u001b[0m\u001b[0m\n\u001b[0m\u001b[0;32m     72\u001b[0m     \u001b[1;32melif\u001b[0m \u001b[0mlen\u001b[0m\u001b[1;33m(\u001b[0m\u001b[0mip\u001b[0m\u001b[1;33m)\u001b[0m \u001b[1;33m==\u001b[0m \u001b[1;36m2\u001b[0m\u001b[1;33m:\u001b[0m\u001b[1;33m\u001b[0m\u001b[0m\n\u001b[0;32m     73\u001b[0m         \u001b[0maddr\u001b[0m\u001b[1;33m,\u001b[0m \u001b[0mport\u001b[0m \u001b[1;33m=\u001b[0m \u001b[0mip\u001b[0m\u001b[1;33m\u001b[0m\u001b[0m\n",
      "\u001b[1;31mValueError\u001b[0m: -f is not a valid IP address/port"
     ]
    }
   ],
   "source": [
    "# Define the url coding    \n",
    "urls = (\n",
    "    '/top/(.*)', 'get_top'\n",
    ")\n",
    "\n",
    "app = web.application(urls, globals())\n",
    "      \n",
    "# number is the number of tops to return     \n",
    "class get_top:\n",
    "    def GET(self, number):\n",
    "        topNumber=int(float(number)) # number of tops I retrieve (cast to float and integer to process number like 2.3)\n",
    "        # If negative or null value, return an information to user       \n",
    "        if topNumber <= 0: \n",
    "            return \"Requested number of top is negative or null! Please retry.\"\n",
    "        filenameJSON = \"top\"+str(topNumber)+\".json\" # name of the JSON file\n",
    "        writeJsonFile(topNumber,filenameJSON) # write the JSON file\n",
    "        web.header('Content-Type', 'application/json') # Precise the content type of the returned data\n",
    "        json_data=open(filenameJSON) # Open the json file\n",
    "        data = json.load(json_data) # Read the data inside the json file\n",
    "        return json.dumps(data) # Return the JSON content\n",
    "        \n",
    "# Launch the webservice\n",
    "if __name__ == \"__main__\":\n",
    "    app.run()    "
   ]
  },
  {
   "cell_type": "code",
   "execution_count": null,
   "metadata": {
    "collapsed": true
   },
   "outputs": [],
   "source": []
  }
 ],
 "metadata": {
  "celltoolbar": "Raw Cell Format",
  "kernelspec": {
   "display_name": "Python 2",
   "language": "python",
   "name": "python2"
  },
  "language_info": {
   "codemirror_mode": {
    "name": "ipython",
    "version": 2
   },
   "file_extension": ".py",
   "mimetype": "text/x-python",
   "name": "python",
   "nbconvert_exporter": "python",
   "pygments_lexer": "ipython2",
   "version": "2.7.11"
  }
 },
 "nbformat": 4,
 "nbformat_minor": 0
}
