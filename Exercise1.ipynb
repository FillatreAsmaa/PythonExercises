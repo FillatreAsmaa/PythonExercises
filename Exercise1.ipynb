{
 "cells": [
  {
   "cell_type": "markdown",
   "metadata": {},
   "source": [
    "# First exercise: read the files\n",
    "\n",
    "This code is based on Python 3.5.\n",
    "\n",
    "I use a PC with Windows 10 and 32 GB RAM.\n",
    "\n",
    "Since the rest of the exercises is using library Pandas, I also use Pandas in this first exercise.\n",
    "\n",
    "A brief examination of the CSV files with Linux shows that the separator is '^'.\n",
    "\n",
    "The file bookings.csv contains 38 columns.\n",
    "\n",
    "The file searches.csv contains 45 columns.\n",
    "\n",
    "The size of the files is so big that I use a read file function based on chunks.\n"
   ]
  },
  {
   "cell_type": "code",
   "execution_count": 1,
   "metadata": {
    "collapsed": false
   },
   "outputs": [
    {
     "name": "stdout",
     "output_type": "stream",
     "text": [
      "The number of lines of \" bookings.csv \" (excluding the header) is = 10000010\n",
      "The number of lines of \" searches.csv \" (excluding the header) is = 20390198\n"
     ]
    }
   ],
   "source": [
    "import pandas as pd # I use library Pandas\n",
    "\n",
    "stringFilenameBookings = \"bookings.csv\" # Bookings file\n",
    "stringFilenameSearches = \"searches.csv\" # Searches file\n",
    "\n",
    "# I define a function because I use the corresponding code two times\n",
    "def intCountLinesWithChunks(stringFilename,intChunksize):\n",
    "    intLines = 0 # cumulated number of lines \n",
    "    dataframeFilename = pd.read_csv(stringFilename,sep='^',chunksize=intChunksize) # read the CSV file\n",
    "    for chunk in dataframeFilename: # loop over the chunks\n",
    "        intLines = intLines + chunk.shape[0] # shape contains the size of the chunk\n",
    "    return intLines\n",
    "\n",
    "# count and print the number of lines\n",
    "intLinesBookings = intCountLinesWithChunks(stringFilename=stringFilenameBookings,intChunksize=10000) \n",
    "print(\"The number of lines of \\\"\",stringFilenameBookings,\"\\\" (excluding the header) is =\", intLinesBookings) \n",
    "\n",
    "# count and print the number of lines\n",
    "intLinesSearches = intCountLinesWithChunks(stringFilename=stringFilenameSearches,intChunksize=10000)\n",
    "print(\"The number of lines of \\\"\",stringFilenameSearches,\"\\\" (excluding the header) is =\", intLinesSearches) "
   ]
  },
  {
   "cell_type": "code",
   "execution_count": null,
   "metadata": {
    "collapsed": true
   },
   "outputs": [],
   "source": []
  }
 ],
 "metadata": {
  "celltoolbar": "Raw Cell Format",
  "kernelspec": {
   "display_name": "Python 3",
   "language": "python",
   "name": "python3"
  },
  "language_info": {
   "codemirror_mode": {
    "name": "ipython",
    "version": 3
   },
   "file_extension": ".py",
   "mimetype": "text/x-python",
   "name": "python",
   "nbconvert_exporter": "python",
   "pygments_lexer": "ipython3",
   "version": "3.5.1"
  }
 },
 "nbformat": 4,
 "nbformat_minor": 0
}
