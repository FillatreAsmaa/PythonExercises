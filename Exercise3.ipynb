{
 "cells": [
  {
   "cell_type": "markdown",
   "metadata": {
    "raw_mimetype": "text/markdown"
   },
   "source": [
    "This code is based on Python 3.5.\n",
    "\n",
    "I propose only the code version without chunck (the whole file is processed in a single step).\n",
    "\n",
    "Using chunks only concerns the generation of \"dfGroupDestMonth\" which can be coded as in Exercise 2. The dataframe \"dfGroupDestMonth\" has a reasonable size.\n"
   ]
  },
  {
   "cell_type": "code",
   "execution_count": 1,
   "metadata": {
    "collapsed": false
   },
   "outputs": [],
   "source": [
    "# common parameters of the code\n",
    "import pandas as pd \n",
    "import matplotlib.pyplot as plt\n",
    "# to insert plot within the notebook\n",
    "%matplotlib inline \n",
    "\n",
    "listTargetDestination=[\"MAD\",\"BCN\",\"AGP\"] # List of target destinations: MADRID (MAD), BARCELONA (BCN) and MALAGA (AGP)\n",
    "usedColumns = ['Date','Destination'] # column relevant for the processing\n",
    "listMonthNumber=[1,2,3,4,5,6,7,8,9,10,11,12] # list of month numbers"
   ]
  },
  {
   "cell_type": "markdown",
   "metadata": {},
   "source": [
    "I read the file and declare NaT (option errors='coerce') the dates uncorrectly formatted.\n",
    "\n",
    "The correct format is '%Y-%m-%d'"
   ]
  },
  {
   "cell_type": "code",
   "execution_count": 2,
   "metadata": {
    "collapsed": false
   },
   "outputs": [],
   "source": [
    "parse = lambda x: pd.to_datetime(x, format='%Y-%m-%d', errors='coerce')\n",
    "df = pd.read_csv(\"searches.csv\",sep='^', usecols=usedColumns, parse_dates=['Date'],date_parser=parse)\n"
   ]
  },
  {
   "cell_type": "markdown",
   "metadata": {},
   "source": [
    "I count the number of searches per destination and per month.\n",
    "\n",
    "The final result is a dataframe which is indexed by the month number between 1 and 12."
   ]
  },
  {
   "cell_type": "code",
   "execution_count": 3,
   "metadata": {
    "collapsed": false
   },
   "outputs": [],
   "source": [
    "dfGroupDestMonth=df['Date'].groupby([df.Destination, df.Date.dt.month]).count().reset_index().set_index('Date')\n",
    "\n",
    "# I count the number of searches for each target destination.\n",
    "# A loop could be used but it seems useless since I have only three target destinations\n",
    "# I reindex the dataframe in order to complete the months if one month has a null count \n",
    "# (in this case, the month does not appear in the dataframe 'dfGroupDestMonth')\n",
    "# The value 0 is assigned to missing months (option \"fill_value=0\")\n",
    "dfcount0 = dfGroupDestMonth[dfGroupDestMonth.Destination==listTargetDestination[0]].reindex(\n",
    "    listMonthNumber, fill_value=0)# MAD\n",
    "dfcount1 = dfGroupDestMonth[dfGroupDestMonth.Destination==listTargetDestination[1]].reindex(\n",
    "    listMonthNumber, fill_value=0)# BCN\n",
    "dfcount2 = dfGroupDestMonth[dfGroupDestMonth.Destination==listTargetDestination[2]].reindex(\n",
    "    listMonthNumber, fill_value=0)# AGP\n",
    "\n",
    "# I merge all the dataframes to obtain one final dataframe whose columns contain the \n",
    "# number of searches for each target destination\n",
    "dftmp = pd.merge(dfcount0,dfcount1,left_index=True, right_index=True) # merge of two dataframes with indexes\n",
    "dftmp = pd.merge(dftmp,dfcount2,left_index=True, right_index=True) # merge of two dataframes with indexes\n",
    "dfDestinationCounts = dftmp.iloc[:,[1,3,5]] # This is the final dataframe\n"
   ]
  },
  {
   "cell_type": "markdown",
   "metadata": {},
   "source": [
    "Plot the result: coming soon\n",
    "\n",
    "I just print the dataframe for the moment without renaming the columns"
   ]
  },
  {
   "cell_type": "code",
   "execution_count": 6,
   "metadata": {
    "collapsed": false
   },
   "outputs": [
    {
     "name": "stdout",
     "output_type": "stream",
     "text": [
      "        0_x    0_y      0\n",
      "Date                     \n",
      "1     24258  29469   9633\n",
      "2     22800  28329   8379\n",
      "3     24681  30552  10659\n",
      "4     25251  31236   8265\n",
      "5     26334  28728  10830\n",
      "6     22800  26505   7923\n",
      "7     22971  29241   8892\n",
      "8     21831  27075   7866\n",
      "9     21147  23427   8151\n",
      "10    22294  20276   6499\n",
      "11    20272  19824   6384\n",
      "12    14504  15400   3696\n"
     ]
    }
   ],
   "source": [
    "print(dfDestinationCounts)"
   ]
  },
  {
   "cell_type": "code",
   "execution_count": null,
   "metadata": {
    "collapsed": true
   },
   "outputs": [],
   "source": []
  }
 ],
 "metadata": {
  "celltoolbar": "Raw Cell Format",
  "kernelspec": {
   "display_name": "Python 3",
   "language": "python",
   "name": "python3"
  },
  "language_info": {
   "codemirror_mode": {
    "name": "ipython",
    "version": 3
   },
   "file_extension": ".py",
   "mimetype": "text/x-python",
   "name": "python",
   "nbconvert_exporter": "python",
   "pygments_lexer": "ipython3",
   "version": "3.5.1"
  }
 },
 "nbformat": 4,
 "nbformat_minor": 0
}
